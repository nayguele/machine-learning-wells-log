{
  "nbformat": 4,
  "nbformat_minor": 0,
  "metadata": {
    "colab": {
      "name": "exemploRpy.ipynb",
      "provenance": [],
      "collapsed_sections": [],
      "authorship_tag": "ABX9TyMgNr0stEM3MxUxa1n5Zkvb",
      "include_colab_link": true
    },
    "kernelspec": {
      "name": "python3",
      "display_name": "Python 3"
    },
    "language_info": {
      "name": "python"
    }
  },
  "cells": [
    {
      "cell_type": "markdown",
      "metadata": {
        "id": "view-in-github",
        "colab_type": "text"
      },
      "source": [
        "<a href=\"https://colab.research.google.com/github/nayguele/machine-learning-wells-log/blob/acrescentar-detector-camadas/exemploRpy.ipynb\" target=\"_parent\"><img src=\"https://colab.research.google.com/assets/colab-badge.svg\" alt=\"Open In Colab\"/></a>"
      ]
    },
    {
      "cell_type": "code",
      "metadata": {
        "id": "roYKH1IbW5K-"
      },
      "source": [
        "%load_ext rpy2.ipython"
      ],
      "execution_count": 2,
      "outputs": []
    },
    {
      "cell_type": "code",
      "metadata": {
        "id": "jbH9CoPIXX1s"
      },
      "source": [
        "%%R\n",
        "Densidade<-c(1.019,1.020,1.021,1.030,1.030,1.030,1.031,1.040,1.040,1.041,1.048,1.049,1.050,1.050,\n",
        "             1.060,1.061,1.063,1.070,1.070,1.070)\n",
        "Polym.susp <- c(11,7,10,19,9,21,13,34,10,36,20,54,20,9,14,10,64,68,488,88)\n",
        "Polym.exp <- c(58,86,76,83,56,73,29,44,31,56,27,59,22,14,17,22,66,86,492,89)\n",
        "Kerac.susp <- c(13,14,30,10,14,35,26,32,22,23,7,22,9,34,71,25,94,63,178,154)\n",
        "Kerac.exp <- c(161,248,234,283,129,161,167,286,117,162,42,48,49,160,74,45,101,68,190,154)\n",
        "\n",
        "Y1<-cbind(Polym.susp, Polym.exp - Polym.susp)\n",
        "Y2 <- cbind(Kerac.susp, Kerac.exp- Kerac.susp)\n"
      ],
      "execution_count": 3,
      "outputs": []
    },
    {
      "cell_type": "code",
      "metadata": {
        "id": "7K1OGIrbX2JM"
      },
      "source": [
        "%%R\n",
        "library(MASS)"
      ],
      "execution_count": 4,
      "outputs": []
    },
    {
      "cell_type": "code",
      "metadata": {
        "colab": {
          "base_uri": "https://localhost:8080/"
        },
        "id": "zEy1U_7rX8Ss",
        "outputId": "55c2e33c-8661-4518-e276-2713cdfeab91"
      },
      "source": [
        "%%R\n",
        "head(Y1)"
      ],
      "execution_count": 5,
      "outputs": [
        {
          "output_type": "stream",
          "text": [
            "     Polym.susp   \n",
            "[1,]         11 47\n",
            "[2,]          7 79\n",
            "[3,]         10 66\n",
            "[4,]         19 64\n",
            "[5,]          9 47\n",
            "[6,]         21 52\n"
          ],
          "name": "stdout"
        }
      ]
    }
  ]
}